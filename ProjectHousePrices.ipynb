{
  "nbformat": 4,
  "nbformat_minor": 0,
  "metadata": {
    "colab": {
      "provenance": []
    },
    "kernelspec": {
      "name": "python3",
      "display_name": "Python 3"
    },
    "language_info": {
      "name": "python"
    }
  },
  "cells": [
    {
      "cell_type": "code",
      "source": [
        "import requests\n",
        "from bs4 import BeautifulSoup\n",
        "import concurrent.futures\n",
        "import numpy as np\n",
        "import pandas as pd\n",
        "import seaborn as sns\n",
        "import regex as re\n",
        "import csv\n",
        "import matplotlib.pyplot as plt\n",
        "from sklearn.model_selection import train_test_split,KFold,cross_val_score\n",
        "from xgboost import XGBRegressor\n",
        "from sklearn.svm import SVR\n",
        "from sklearn.preprocessing import OrdinalEncoder,LabelEncoder\n",
        "from sklearn.ensemble import GradientBoostingRegressor,RandomForestRegressor\n",
        "from sklearn.linear_model import LinearRegression,LassoCV\n",
        "from sklearn.metrics import mean_squared_error, r2_score\n",
        "import xgboost as xgb\n",
        "from mlxtend.regressor import StackingCVRegressor\n",
        "from sklearn.neural_network import MLPRegressor"
      ],
      "metadata": {
        "id": "23nQ-ulVeYst"
      },
      "execution_count": null,
      "outputs": []
    },
    {
      "cell_type": "markdown",
      "source": [
        "# **WEB SCRAPING**\n",
        "(mọi người có chạy code đừng chạy lại phần này)"
      ],
      "metadata": {
        "id": "hFAY56-M9KFh"
      }
    },
    {
      "cell_type": "markdown",
      "source": [
        "Lấy đường link từng trang của web (take the websites' links)"
      ],
      "metadata": {
        "id": "OIFkhLq0_gs4"
      }
    },
    {
      "cell_type": "code",
      "source": [
        "list_of_links = []\n",
        "for i in range(450):\n",
        "  number = str(i+1)\n",
        "  list_of_links.append('https://batdongsan.vn/ban-nha/p' + number)"
      ],
      "metadata": {
        "id": "L9hSPQGv-855"
      },
      "execution_count": null,
      "outputs": []
    },
    {
      "cell_type": "markdown",
      "source": [
        "Lấy đường link các bài đăng rao bán nhà (Get the link of the house for sale)"
      ],
      "metadata": {
        "id": "iLh3f6q2_BRi"
      }
    },
    {
      "cell_type": "code",
      "source": [
        "house_info = []\n",
        "for link in list_of_links:\n",
        "  response = requests.get(link)\n",
        "  html_content = response.text\n",
        "  soup = BeautifulSoup(html_content, 'html.parser')\n",
        "  links = soup.findAll('div',  {'class':'name'})\n",
        "  number = len(links)\n",
        "  for i in range(number):\n",
        "    house_info.append(links[i].find('a').get('href'))\n",
        "  del house_info[-5:]\n",
        "house_info"
      ],
      "metadata": {
        "id": "Plad1whx_UgF"
      },
      "execution_count": null,
      "outputs": []
    },
    {
      "cell_type": "markdown",
      "source": [
        "Lấy thông tin chi tiết của từng bài viết, sử dụng đa luồng để có thể request nhanh hơn (Get detailed information of each article, use multi-threading to be able to request faster)"
      ],
      "metadata": {
        "id": "nejStn2LBqDO"
      }
    },
    {
      "cell_type": "code",
      "source": [
        "house_details = []\n",
        "def get_details(url):\n",
        "    resp = requests.get(url=url)\n",
        "    html_content = resp.text\n",
        "    soup = BeautifulSoup(html_content, 'html.parser')\n",
        "    return soup\n",
        "\n",
        "urls = house_info\n",
        "\n",
        "with concurrent.futures.ThreadPoolExecutor() as executor:\n",
        "\n",
        "    futures = []\n",
        "\n",
        "    for url in urls:\n",
        "        futures.append(executor.submit(get_details, url=url))\n",
        "\n",
        "    for future in concurrent.futures.as_completed(futures):\n",
        "        house_details.append(future.result())"
      ],
      "metadata": {
        "id": "MnQrNnWg_1ok"
      },
      "execution_count": null,
      "outputs": []
    },
    {
      "cell_type": "markdown",
      "source": [
        "Lưu từng bài đăng từ dạng HTML sang file *.txt để tiện xử lý sau này (không phải request lại) (Save each post from HTML to *.txt file for later processing (no re-request)"
      ],
      "metadata": {
        "id": "TDMWGcWEGsNT"
      }
    },
    {
      "cell_type": "code",
      "source": [
        "num = 1\n",
        "for i in house_details:\n",
        "    with open('House' + str(num) + '.txt', 'a+', encoding='utf-8') as f:\n",
        "        f.write(str(i))\n",
        "    num = num+1"
      ],
      "metadata": {
        "id": "RC_jwsKxF3SE"
      },
      "execution_count": null,
      "outputs": []
    },
    {
      "cell_type": "markdown",
      "source": [
        "# **DATA EXTRACTION**"
      ],
      "metadata": {
        "id": "QHIpwETgG6b4"
      }
    },
    {
      "cell_type": "markdown",
      "source": [
        "## **Xử lý bước đầu (Initial processing)**"
      ],
      "metadata": {
        "id": "lL_TKcSzIXGs"
      }
    },
    {
      "cell_type": "code",
      "source": [
        "gia = []\n",
        "ten = []\n",
        "dt = []\n",
        "dc = []\n",
        "quan = []\n",
        "phongngu = []\n",
        "thoigian = []\n",
        "num = 1\n",
        "for i in range (9000):\n",
        "    temp = []\n",
        "    if num == 2395 or num == 3641 or num == 3669 or num == 3824:\n",
        "        num = num + 1\n",
        "        continue\n",
        "    with open('D:\\data2\\House'+ str(num) + '.txt','r',encoding='utf-8') as f:\n",
        "        soup = BeautifulSoup(f, \"html.parser\")\n",
        "        gia.append(soup.find('strong', {'class':'price'}).text.strip())\n",
        "        ten.append(soup.find('title').text.strip())\n",
        "        dtdc = soup.find('div', {'class':'param'}).text.strip()\n",
        "        temp = soup.find('ul',{'class':'uk-breadcrumb'}).text\n",
        "        temp = temp.split('\\n')\n",
        "        dt.append(dtdc.split('\\n')[0].split('Diện tích:')[-1].strip())\n",
        "        dc.append(temp[3])\n",
        "        quan.append(temp[4])\n",
        "        thoigian.append(soup.find('time',{'class':'timeago'})['datetime'])\n",
        "        if len(dtdc.split('\\n')) < 3:\n",
        "            phongngu.append(np.nan)\n",
        "        else:\n",
        "            phongngu.append(dtdc.split('\\n')[1].split('Phòng ngủ:')[-1].strip())\n",
        "        num = num+1"
      ],
      "metadata": {
        "id": "JEbz20QIHX3A"
      },
      "execution_count": null,
      "outputs": []
    },
    {
      "cell_type": "code",
      "source": [
        "house = pd.DataFrame(\n",
        "    {'Tên': ten,\n",
        "     'Giá': gia,\n",
        "     'Diện tích': dt,\n",
        "     'Phòng ngủ': phongngu,\n",
        "     'Thành phố': dc,\n",
        "     'Quận/Huyện': quan,\n",
        "     'Ngày đăng': thoigian})"
      ],
      "metadata": {
        "id": "n4YHzt3SILVt"
      },
      "execution_count": null,
      "outputs": []
    },
    {
      "cell_type": "code",
      "source": [
        "house[\"Diện tích\"] = house[\"Diện tích\"].str.replace(' m2','')\n",
        "house[\"Diện tích\"] = house[\"Diện tích\"].str.replace('Phòng.*','', regex=True)\n",
        "house[\"Diện tích\"] = house[\"Diện tích\"].str.replace('Địa chỉ.*','', regex=True)\n",
        "house[\"Diện tích\"] = house[\"Diện tích\"].str.replace('Hướng.*','', regex=True)"
      ],
      "metadata": {
        "id": "h1xgpRaSINFe"
      },
      "execution_count": null,
      "outputs": []
    },
    {
      "cell_type": "code",
      "source": [
        "house[\"Giá\"] = house[\"Giá\"].str.replace(' triệu','000000')\n",
        "house[\"Giá\"] = house[\"Giá\"].str.replace(' tỷ','')\n",
        "house[\"Giá\"] = house[\"Giá\"].str.replace('Thỏa.*','0', regex=True)"
      ],
      "metadata": {
        "id": "AWqI1vV1JbDm"
      },
      "execution_count": null,
      "outputs": []
    },
    {
      "cell_type": "code",
      "source": [
        "house[\"Phòng ngủ\"] = house[\"Phòng ngủ\"].str.replace(' PN','')\n",
        "house[\"Phòng ngủ\"] = house[\"Phòng ngủ\"].str.replace('Hướng.*','0', regex=True)\n",
        "house[\"Phòng ngủ\"] = house[\"Phòng ngủ\"].str.replace('Phòng.*','0', regex=True)"
      ],
      "metadata": {
        "id": "p2cU0IKnJdsm"
      },
      "execution_count": null,
      "outputs": []
    },
    {
      "cell_type": "code",
      "source": [
        "house.to_csv('HouseInVietNam.csv',index=False,header =True,encoding='utf-8-sig')"
      ],
      "metadata": {
        "id": "sXFodBqPWSWD"
      },
      "execution_count": null,
      "outputs": []
    },
    {
      "cell_type": "markdown",
      "source": [
        "## **Xử lý chi tiết (Processing details)**"
      ],
      "metadata": {
        "id": "5mSRfwtZ_VTP"
      }
    },
    {
      "cell_type": "markdown",
      "source": [
        "Xử lý dữ liệu giá nhà (Processing house price data)"
      ],
      "metadata": {
        "id": "RvAFeLIudm-E"
      }
    },
    {
      "cell_type": "code",
      "source": [
        "house = pd.read_csv('/content/HouseInVietNam.csv')"
      ],
      "metadata": {
        "id": "dD1celusWZKO"
      },
      "execution_count": null,
      "outputs": []
    },
    {
      "cell_type": "code",
      "source": [
        "house[\"Giá\"] = house[\"Giá\"].str.replace(\"nghìn\",\"\")\n",
        "house['Giá'] = house['Giá'].astype(float)\n",
        "house = house.replace(0,np.nan)"
      ],
      "metadata": {
        "id": "9QDCUWBjdkjZ"
      },
      "execution_count": null,
      "outputs": []
    },
    {
      "cell_type": "code",
      "source": [
        "#Lấy giá nhà theo đơn vị tỷ và triệu từ mô tả trong cột\n",
        "b_price_list = []\n",
        "m_price_list = []\n",
        "\n",
        "#Lấy giá nhà theo đơn vị triệu/m2\n",
        "per_m2_list = []\n",
        "\n",
        "for description in house[\"Tên\"]:\n",
        "  b_price = re.search(r'((\\d+(,|.)\\d+)|(\\d+))\\s*(?=tỷ|Tỷ|xtỷ|xxx Tỷ|tyxx|tỉ|Tỉ)',description)\n",
        "  m_price = re.search(r'\\d+\\s*(?=Triệu|triệu|tr)',description)\n",
        "  per_m2_price = re.search(r'\\d+\\s*(?=Triệu(\\/)m2|triệu(\\/)m2|tr(\\/)m2|TRIỆU(\\/)M2|TRIỆU(\\/)2|tr(\\/)m)', description)\n",
        "  if(b_price == None):\n",
        "    b_price_list.append(0)\n",
        "  else:\n",
        "    b_price_list.append(b_price.group())\n",
        "  if(m_price == None):\n",
        "    m_price_list.append(0)\n",
        "  else:\n",
        "    m_price_list.append(m_price.group())\n",
        "  if(per_m2_price == None):\n",
        "    per_m2_list.append(0)\n",
        "  else:\n",
        "    per_m2_list.append(float(per_m2_price.group()))\n",
        "\n",
        "\n",
        "for i in range(len(b_price_list)):\n",
        "  if (type(b_price_list[i]) == str):\n",
        "    if(\"/\" in b_price_list[i]):\n",
        "      b_price_list[i] = b_price_list[i].split(\"/\")[1]\n",
        "    b_price_list[i] = \"\".join(b_price_list[i].split())\n",
        "    b_price_list[i] = b_price_list[i].replace(',','.')\n",
        "  b_price_list[i] = float(b_price_list[i])\n",
        "  m_price_list[i] = float(m_price_list[i])\n",
        "  b_price_list[i] += m_price_list[i]/1000"
      ],
      "metadata": {
        "id": "_d36_tqoe8ed"
      },
      "execution_count": null,
      "outputs": []
    },
    {
      "cell_type": "code",
      "source": [
        "#Lấy các giá từ miêu tả để thay thế giá\n",
        "for i in range(len(house[\"Giá\"])):\n",
        "  if(per_m2_list[i]!=0):\n",
        "    house[\"Giá\"][i] = per_m2_list[i] * house[\"Diện tích\"][i]\n",
        "  elif(b_price_list[i] != 0):\n",
        "    house[\"Giá\"][i] = b_price_list[i]\n",
        "\n",
        "#Nếu không lấy được từ mô tả thì sẽ xử lý thủ công để đưa về giá trị ở đơn vị tỷ\n",
        "for i in range(len(house[\"Giá\"])):\n",
        "  if (np.isnan(house[\"Giá\"][i]) != True):\n",
        "    if(house[\"Giá\"][i] >= 1e9):\n",
        "      house[\"Giá\"][i] /= 1e9\n",
        "    elif(house[\"Giá\"][i] >= 1e6):\n",
        "      house[\"Giá\"][i] /= 1e7\n",
        "    elif(house[\"Giá\"][i] >= 1e5):\n",
        "      house[\"Giá\"][i] /= 1e5\n",
        "    elif(house[\"Giá\"][i] >= 1e4):\n",
        "      house[\"Giá\"][i] /= 1e4\n",
        "    elif(house[\"Giá\"][i] >= 1e3):\n",
        "      house[\"Giá\"][i] /= 1e3\n",
        "    elif(house[\"Giá\"][i] >= 1e2):\n",
        "      house[\"Giá\"][i] /= 1e2\n"
      ],
      "metadata": {
        "id": "YC7xP-n4fcvU"
      },
      "execution_count": null,
      "outputs": []
    },
    {
      "cell_type": "markdown",
      "source": [
        "Xử lý dữ liệu diện tích (Processing house area)"
      ],
      "metadata": {
        "id": "Snow7jH4f7J3"
      }
    },
    {
      "cell_type": "code",
      "source": [
        "area_list = []\n",
        "for description_1, description_2 in zip(house[\"Mô tả\"],house[\"Tên\"]):\n",
        "  area = re.search(r'(((\\d+(,|\\.)\\d+)|(\\d+))\\s*)(?=m2|M2|m²)',description_1 + description_2)\n",
        "  if(area == None):\n",
        "    area_list.append(np.nan)\n",
        "  else:\n",
        "    area_list.append(area.group().replace(\",\",\".\"))"
      ],
      "metadata": {
        "id": "JhN1PIhLfEHk"
      },
      "execution_count": null,
      "outputs": []
    },
    {
      "cell_type": "code",
      "source": [
        "for i in range(len(house[\"Diện tích\"])):\n",
        "  if(np.isnan(house[\"Diện tích\"][i])):\n",
        "    house[\"Diện tích\"][i] = area_list[i]\n",
        "  else:\n",
        "    continue\n"
      ],
      "metadata": {
        "id": "HkEQsC2zgiio"
      },
      "execution_count": null,
      "outputs": []
    },
    {
      "cell_type": "markdown",
      "source": [
        "Xử lý dữ liệu phòng ngủ (Processing numbers of bedrooms)"
      ],
      "metadata": {
        "id": "gSnFJyYOhYiZ"
      }
    },
    {
      "cell_type": "code",
      "source": [
        "bed_rooms = []\n",
        "for description in house[\"Mô tả\"]:\n",
        "  room = re.findall(r'\\d\\s*(?=PN|ngủ|pn|phòng ngủ|Phòng Ngủ|Pn|Phòng ngủ)',description)\n",
        "  room = list(map(int,room))\n",
        "  result = sum(room)\n",
        "  bed_rooms.append(result)\n"
      ],
      "metadata": {
        "id": "9XYR6471hZJ9"
      },
      "execution_count": null,
      "outputs": []
    },
    {
      "cell_type": "code",
      "source": [
        "for i in range(len(house[\"Phòng ngủ\"])):\n",
        "  if(np.isnan(house[\"Phòng ngủ\"][i])):\n",
        "    house[\"Phòng ngủ\"][i] = bed_rooms[i]\n",
        "  else:\n",
        "    continue"
      ],
      "metadata": {
        "id": "TtnhLaNIi_tI"
      },
      "execution_count": null,
      "outputs": []
    },
    {
      "cell_type": "markdown",
      "source": [
        "Sử dụng mô hình hồi quy tuyến tính điền giá trị bị thiếu ở cột diện tích (Using a linear regression model fill in the missing value in the area column)"
      ],
      "metadata": {
        "id": "U4ofmyPgjFrB"
      }
    },
    {
      "cell_type": "code",
      "source": [
        "missing_data = house[house['Diện tích'].isnull()]\n",
        "\n",
        "# Lọc các giá trị đầy trong cột \"Diện tích\" và \"Phòng ngủ\"\n",
        "known_data = house.dropna(subset=['Diện tích', 'Phòng ngủ'])\n",
        "\n",
        "lr = LinearRegression()\n",
        "lr.fit(known_data['Phòng ngủ'].values.reshape(-1, 1), known_data['Diện tích'])\n",
        "predicted_data = lr.predict(missing_data['Phòng ngủ'].values.reshape(-1, 1))\n",
        "\n",
        "# Điền giá trị dự đoán vào cột \"Diện tích\" còn thiếu\n",
        "house.loc[house['Diện tích'].isnull(), 'Diện tích'] = predicted_data"
      ],
      "metadata": {
        "id": "KunUtJaJjFB0"
      },
      "execution_count": null,
      "outputs": []
    },
    {
      "cell_type": "markdown",
      "source": [
        "Sử dụng mô hình hồi quy tuyến tính điền giá trị bị thiếu ở cột giá (Using a linear regression model fill in the missing value in the price column)"
      ],
      "metadata": {
        "id": "z4IfsjW_jlVf"
      }
    },
    {
      "cell_type": "code",
      "source": [
        "missing_data = house[house['Giá'].isnull()]\n",
        "\n",
        "# Lọc các giá trị đầy trong cột \"Diện tích\" và \"Phòng ngủ\"\n",
        "known_data = house.dropna(subset=['Giá', 'Diện tích'])\n",
        "\n",
        "lr = LinearRegression()\n",
        "lr.fit(known_data['Diện tích'].values.reshape(-1, 1), known_data['Giá'])\n",
        "predicted_data = lr.predict(missing_data['Phòng ngủ'].values.reshape(-1, 1))\n",
        "\n",
        "# Điền giá trị dự đoán vào cột \"Diện tích\" còn thiếu\n",
        "house.loc[house['Giá'].isnull(), 'Giá'] = predicted_data"
      ],
      "metadata": {
        "id": "eoILlQSEjlGo"
      },
      "execution_count": null,
      "outputs": []
    },
    {
      "cell_type": "markdown",
      "source": [
        "Thêm cột số tầng từ mô tả (Add floor number column from description)"
      ],
      "metadata": {
        "id": "pqjvlajkwbBw"
      }
    },
    {
      "cell_type": "code",
      "source": [
        "floor_list = []\n",
        "for description in house[\"Mô tả\"]:\n",
        "  ground_floor = re.findall(r'\\d+\\s*(?=Trệt|Tầng trệt|tầng trệt)', description)\n",
        "  floor = re.findall(r'\\d+\\s*(?=Lầu|Tầng|tầng|lầu)', description)\n",
        "  if(len(ground_floor) == 0):\n",
        "    ground_floor.append(0)\n",
        "  if(len(floor) == 0):\n",
        "    floor.append(0)\n",
        "  floor = int(floor[0]) + int(ground_floor[0])\n",
        "  if(floor != 0):\n",
        "    floor_list.append(floor)\n",
        "  else:\n",
        "    floor_list.append(1)\n",
        "\n",
        "house[\"Số tầng\"] = floor_list\n"
      ],
      "metadata": {
        "id": "ZMkt-3lbwam6"
      },
      "execution_count": null,
      "outputs": []
    },
    {
      "cell_type": "markdown",
      "source": [
        "Thêm cột tiện ích cho từng ngôi nhà (Add score column)"
      ],
      "metadata": {
        "id": "pxXdt-NP2IyC"
      }
    },
    {
      "cell_type": "code",
      "source": [
        "house['Score'] = 0.0\n",
        "for i in range (len(house)):\n",
        "  score = 0\n",
        "  text = house.iloc[i]['Mô tả']\n",
        "  lower_text = text.lower()\n",
        "  if \"mới\" in lower_text:\n",
        "    score += 1\n",
        "  if \"thang máy\" in lower_text:\n",
        "    score += 1\n",
        "  if \"hầm xe\" in lower_text:\n",
        "    score += 1\n",
        "  if \"an ninh\" in lower_text:\n",
        "    score += 1\n",
        "  if \"đẹp\" in lower_text:\n",
        "    score += 1\n",
        "  if \"mặt tiền\" in lower_text:\n",
        "    score += 1\n",
        "  if \"kinh doanh\" in lower_text:\n",
        "    score += 1\n",
        "  if \"hồ bơi\" in lower_text:\n",
        "    score += 1\n",
        "  if \"vườn\" in lower_text:\n",
        "    score += 1\n",
        "  house['Score'][i] = score"
      ],
      "metadata": {
        "id": "fDoGGamm1-t3"
      },
      "execution_count": null,
      "outputs": []
    },
    {
      "cell_type": "markdown",
      "source": [
        "Xử lí cột thời gian (Process time)"
      ],
      "metadata": {
        "id": "IpUhA9HkJwOi"
      }
    },
    {
      "cell_type": "code",
      "source": [
        "house['Ngày đăng'] = [pd.Timestamp(time) for time  in house['Ngày đăng'] ]\n",
        "house['Giờ'] = [house['Ngày đăng'][i].hour for i in range(len(house))]\n",
        "house['Tháng'] = [house['Ngày đăng'][i].month for i in range(len(house))]\n",
        "house['Ngày của tuần'] = [house['Ngày đăng'][i].day for i in range(len(house))]"
      ],
      "metadata": {
        "id": "W9oVUGNCJux1"
      },
      "execution_count": null,
      "outputs": []
    },
    {
      "cell_type": "markdown",
      "source": [
        "Xử lý các outlier (Process outliers)"
      ],
      "metadata": {
        "id": "nEHi4Bsoz9NW"
      }
    },
    {
      "cell_type": "code",
      "source": [
        "house['Price per Square'] = house['Giá']/(house['Diện tích'].astype(float)*house['Số tầng'])\n",
        "#Outlier detect\n",
        "Q1 = house['Price per Square'].quantile(0.25)\n",
        "Q3 = house['Price per Square'].quantile(0.75)\n",
        "# Tính phạm vi IQR\n",
        "IQR = Q3 - Q1\n",
        "# Xác định giới hạn trên và dưới để xác định outlier\n",
        "lower_bound = Q1 - 1.5 * IQR\n",
        "upper_bound = Q3 + 1.5 * IQR\n",
        "# Xử lý outlier bằng cách thay thế bằng giới hạn trên và dưới\n",
        "house = house[(house['Price per Square'] >= lower_bound) & (house['Price per Square'] <= upper_bound)].dropna()\n",
        "house.reset_index(drop=True, inplace=True)"
      ],
      "metadata": {
        "id": "Xdm03zzTz8kK"
      },
      "execution_count": null,
      "outputs": []
    },
    {
      "cell_type": "code",
      "source": [
        "house.to_csv('HouseInVietNam_finall.csv',index=False,header =True,encoding='utf-8-sig')"
      ],
      "metadata": {
        "id": "Q_AVchSYTvMX"
      },
      "execution_count": null,
      "outputs": []
    },
    {
      "cell_type": "markdown",
      "source": [
        "# **Data visualization**"
      ],
      "metadata": {
        "id": "2EeJQtzxAFYT"
      }
    },
    {
      "cell_type": "markdown",
      "source": [
        "Dữ liệu sau khi được xử lí (Data after processing)"
      ],
      "metadata": {
        "id": "i8Ge7SRGE7GJ"
      }
    },
    {
      "cell_type": "code",
      "source": [
        "house = pd.read_csv('/content/HouseInVietNam_finall.csv')"
      ],
      "metadata": {
        "id": "hzb7HjrBo2Ut"
      },
      "execution_count": null,
      "outputs": []
    },
    {
      "cell_type": "code",
      "source": [
        "house"
      ],
      "metadata": {
        "id": "A1Bx6f-SEq2E"
      },
      "execution_count": null,
      "outputs": []
    },
    {
      "cell_type": "markdown",
      "source": [
        "Biểu đồ nhiệt covariance giữa các feature (Heatmap)"
      ],
      "metadata": {
        "id": "5fXmpDgfEuKU"
      }
    },
    {
      "cell_type": "code",
      "source": [
        "sns.heatmap(house.corr(),annot = True)"
      ],
      "metadata": {
        "id": "SKO6vB-J5-XS"
      },
      "execution_count": null,
      "outputs": []
    },
    {
      "cell_type": "markdown",
      "source": [
        "Biểu đồ nhiệt giá nhà dựa vào vị trí sử dụng kernel density estimation (Heatmap using kernel density estimation)"
      ],
      "metadata": {
        "id": "PpNYzBOcFeO-"
      }
    },
    {
      "cell_type": "code",
      "source": [
        "data_backup = house.copy()\n",
        "lb = LabelEncoder()\n",
        "data_backup.isetitem(data_backup.columns.get_loc('Thành phố'),lb.fit_transform(data_backup.loc[:,'Thành phố']))\n",
        "data_backup.isetitem(data_backup.columns.get_loc('Quận/Huyện'),lb.fit_transform(data_backup.loc[:,'Quận/Huyện']))\n",
        "plt.subplot(1, 2, 1)\n",
        "sns.kdeplot(data=data_backup, x='Thành phố', y='Giá', cmap=\"Reds\", thresh=0.05,fill=True)\n",
        "plt.subplot(1, 2, 2)\n",
        "sns.kdeplot(data=data_backup, x='Quận/Huyện', y='Giá', cmap=\"Reds\", thresh=0.05,fill=True)"
      ],
      "metadata": {
        "id": "7wyp_coiF9qA"
      },
      "execution_count": null,
      "outputs": []
    },
    {
      "cell_type": "markdown",
      "source": [
        "# **MODELING**"
      ],
      "metadata": {
        "id": "URfAnGVnBgAG"
      }
    },
    {
      "cell_type": "markdown",
      "source": [
        "##**Data preprocessing**"
      ],
      "metadata": {
        "id": "H7QdFXfoCpC-"
      }
    },
    {
      "cell_type": "code",
      "source": [
        "features = ['Diện tích', 'Thành phố', 'Quận/Huyện','Score','Phòng ngủ', 'Giờ', 'Tháng','Ngày của tuần']\n",
        "target = 'Giá'\n",
        "X = house[features].to_numpy()\n",
        "X = OrdinalEncoder().fit_transform(X)\n",
        "y = house[target].to_numpy()\n",
        "\n",
        "X_train, X_test, y_train, y_test = train_test_split(X, y, test_size = 0.3, random_state = 42)"
      ],
      "metadata": {
        "id": "xQV6Q_IUBffA"
      },
      "execution_count": null,
      "outputs": []
    },
    {
      "cell_type": "markdown",
      "source": [
        "## **Linear regresion**"
      ],
      "metadata": {
        "id": "EEZ5FeHZfGsk"
      }
    },
    {
      "cell_type": "markdown",
      "source": [
        "Linear Regression là một phương pháp thống kê để hồi quy dữ liệu với biến phụ thuộc có giá trị liên tục trong khi các biến độc lập có thể có một trong hai giá trị liên tục hoặc là giá trị phân loại. Nói cách khác \"Hồi quy tuyến tính\" là một phương pháp để dự đoán biến phụ thuộc (Y) dựa trên giá trị của biến độc lập (X).\n",
        "\n",
        "Mô hình Linear Regression tìm kiếm một đường tuyến tính tốt nhất để mô phòng mối quan hệ giữa biến phụ thuộc và biến độc lập. Các tham số của mô hình được tìm thấy bằng phương pháp tối ưu, với mục tiêu là giảm thiểu sai số giữa dự đoán và giá trị thực tế. Kết quả là một mô hình đơn giản, dễ hiểu và dễ sử dụng, cung cấp khả năng dự đoán giá trị mới dựa trên các biến đầu vào đã biết trước."
      ],
      "metadata": {
        "id": "ISRxJVkBM8Oq"
      }
    },
    {
      "cell_type": "code",
      "source": [
        "linear_model = LinearRegression()\n",
        "linear_model.fit(X_train, y_train)\n",
        "y_pred = linear_model.predict(X_test)\n",
        "mse_linearRegression = mean_squared_error(y_test, y_pred)\n",
        "rmse_linearRegression = np.sqrt(mse_linearRegression)\n",
        "R2_linear = linear_model.score(X_train,y_train)\n",
        "print(\"MSE:\", mse_linearRegression)\n",
        "print(\"RMSE score for Linear Regression: {:.4f}\".format(rmse_linearRegression))\n",
        "print(\"R2-Score: \", linear_model.score(X_train, y_train))"
      ],
      "metadata": {
        "id": "yb8gi4emfGWp"
      },
      "execution_count": null,
      "outputs": []
    },
    {
      "cell_type": "code",
      "source": [
        "plt.figure(figsize=(10, 6))\n",
        "plt.scatter(range(len(y_test)), y_test, color='blue', label='Thực tế')\n",
        "plt.scatter(range(len(y_test)), y_pred, color='red', label='Dự đoán')\n",
        "plt.xlabel('Mẫu')\n",
        "plt.ylabel('Giá trị')\n",
        "plt.title('So sánh dữ liệu thực và dữ liệu dự đoán')\n",
        "plt.legend()\n",
        "plt.show()"
      ],
      "metadata": {
        "id": "bjo-tqGFtUhc"
      },
      "execution_count": null,
      "outputs": []
    },
    {
      "cell_type": "markdown",
      "source": [
        "## **Lasso regression**"
      ],
      "metadata": {
        "id": "IPU4ERQrfLI3"
      }
    },
    {
      "cell_type": "markdown",
      "source": [
        "Mô hình Lasso Regression được sử dụng trong việc ước lượng và lựa chọn các biến quan trọng trong một mô hình hồi quy tuyến tính. Đặc trưng của mô hình này là việc áp dụng một quy tắc chặt chẽ để đưa ra ước lượng hệ số và loại bỏ những biến không quan trọng.\n",
        "\n",
        "Thay vì tìm kiếm một mô hình tuyến tính hoàn hảo, Lasso Regression sử dụng một thành phần regularization để kiểm soát sự phức tạp của mô hình. Thành phần này được xây dựng dựa trên giá trị tuyệt đối của các hệ số, dẫn đến việc đặt một số hệ số bằng 0. Kết quả là một mô hình hồi quy tuyến tính thưa (sparse), chỉ chứa các biến quan trọng và loại bỏ những biến không quan trọng.\n",
        "\n",
        "Lasso Regression không chỉ giúp giảm overfitting mà còn giải quyết vấn đề đa cộng tuyến (multicollinearity) trong dữ liệu. Thay vì chọn toàn bộ các biến tương quan, Lasso Regression có khả năng lựa chọn một trong số chúng, tạo ra một mô hình đơn giản và hiệu quả."
      ],
      "metadata": {
        "id": "UmLVTi-dTNo7"
      }
    },
    {
      "cell_type": "code",
      "source": [
        "lasso_model = LassoCV(alphas = [0.0004, 0.0005, 0.0006], random_state = 42, cv = 10)\n",
        "lasso_model.fit(X_train, y_train)\n",
        "y_pred = lasso_model.predict(X_test)\n",
        "mse_lassoRegression = mean_squared_error(y_test, y_pred)\n",
        "rmse_lassoRegression = np.sqrt(mse_lassoRegression)\n",
        "R2_lasso = lasso_model.score(X_train,y_train)\n",
        "print(\"Mean Squared Error = {:.8f}\".format(mse_lassoRegression))\n",
        "print(\"RMSE score for Lasso Regression: {:.4f}\".format(rmse_lassoRegression))\n",
        "print(\"R2-Score: \", R2_lasso)"
      ],
      "metadata": {
        "id": "JAezBqp8mcvF"
      },
      "execution_count": null,
      "outputs": []
    },
    {
      "cell_type": "code",
      "source": [
        "plt.figure(figsize=(10, 6))\n",
        "plt.scatter(range(len(y_test)), y_test, color='blue', label='Thực tế')\n",
        "plt.scatter(range(len(y_test)), y_pred, color='red', label='Dự đoán')\n",
        "plt.xlabel('Mẫu')\n",
        "plt.ylabel('Giá trị')\n",
        "plt.title('So sánh dữ liệu thực và dữ liệu dự đoán')\n",
        "plt.legend()\n",
        "plt.show()"
      ],
      "metadata": {
        "id": "_FbOOvPI-FsK"
      },
      "execution_count": null,
      "outputs": []
    },
    {
      "cell_type": "markdown",
      "source": [
        "## **Random forest**"
      ],
      "metadata": {
        "id": "02lr7r_uGwHa"
      }
    },
    {
      "cell_type": "markdown",
      "source": [
        "Random Forest là một thuật học tổng hợp (Ensemble learning), mà trong đấy sẽ xây dụng hàng loạt cây quyết định bằng cách cải tiến các kỹ thuật Bootstrapping và Bagging.\n",
        "\n",
        "Bootstrapping là một kỹ thuật thống kê từ 1 bộ dữ liệu N sinh ra B bộ dữ liệu mới, các mẫu được lấy ra từ dataset một cách ngẫu nhiên, cho phép một mẫu được xuất hiện nhiều hơn một lần.\n",
        "\n",
        "Bagging sẽ fit các model trên các tập dư liệu lấy ra bằng kỹ thuật Bootstrapping và tính trung bình cộng kết quả dự đoán của các model đó nhằm kiếm được một model mới có variance thấp.\n",
        "\n",
        "Bagging là một thuật học tổng hợp hiệu quả vì mỗi cây quyết định sẽ được fit với một tập train có một ít khác nhau và do đó kết quả cũng sẽ hơi khác nhau. Không giống như các mô hình cây quyết định thông thường, chẳng hạn như cây phân loại và hồi quy (CART), chúng thường rơi vào tình trạng quá khớp với tập dữ liệu huấn luyện. Bagging giúp cho mỗi cây trở nên khác biệt hơn, làm giảm phương sai và các dự đoán lỗi.\n",
        "\n",
        "Tuy nhiên khác với Bagging, Random Forest thay vì chỉ lấy mẫu qua observation trong tập dữ liệu để sinh mẫu, ta sẽ lấy mẫu trên tất cả features và chỉ lấy ngẫu nhiên 1 tập con để xây dựng cây quyết định. Việc lấy mẫu trên các features giúp cho tất cả các cây không dùng cùng một lượng thông tin để đưa ra quyết định và do đó sẽ làm giảm mối tương quan giữa các cây khác nhau."
      ],
      "metadata": {
        "id": "Bw3MwUkYRD-v"
      }
    },
    {
      "cell_type": "code",
      "source": [
        "RF_model = RandomForestRegressor(n_estimators=275, random_state=42)\n",
        "RF_model.fit(X_train, y_train)\n",
        "y_pred = RF_model.predict(X_test)\n",
        "mse_randomForest = mean_squared_error(y_test, y_pred)\n",
        "rmse_randomForest = np.sqrt(mse_randomForest)\n",
        "R2_random = RF_model.score(X_test,y_test)\n",
        "print(\"MSE:\", mse_randomForest)\n",
        "print(\"RMSE score for Random Forest: {:.4f}\".format(rmse_randomForest))\n",
        "print(\"R2-Score: \", R2_random)"
      ],
      "metadata": {
        "id": "Zldn3-czHC3M"
      },
      "execution_count": null,
      "outputs": []
    },
    {
      "cell_type": "code",
      "source": [
        "plt.figure(figsize=(10, 6))\n",
        "plt.scatter(range(len(y_test)), y_test, color='blue', label='Thực tế')\n",
        "plt.scatter(range(len(y_test)), y_pred, color='red', label='Dự đoán')\n",
        "plt.xlabel('Mẫu')\n",
        "plt.ylabel('Giá trị')\n",
        "plt.title('So sánh dữ liệu thực và dữ liệu dự đoán')\n",
        "plt.legend()\n",
        "plt.show()"
      ],
      "metadata": {
        "id": "8livGNN5HRJ7"
      },
      "execution_count": null,
      "outputs": []
    },
    {
      "cell_type": "markdown",
      "source": [
        "## **Support Vector Regression**\n",
        "\n"
      ],
      "metadata": {
        "id": "XZMwSqN2HWSf"
      }
    },
    {
      "cell_type": "markdown",
      "source": [
        "Support Vector Regression được sử dụng để dự đoán mối quan hệ phi tuyến giữa các biến. Nó sử dụng nguyên tắc của Support Vector Machine để xác định một hàm tuyến tính hoặc phi tuyến nhằm tối đa hóa khoảng cách giữa các điểm dữ liệu.\n",
        "\n",
        "Điểm đặc biệt của SVR là khả năng làm việc với dữ liệu phi tuyến mà không yêu cầu giả định về phân phối và khả năng chống nhiễu. Để làm được điều này, SVR biến đổi dữ liệu huấn luyện thành không gian có số chiều cao hơn bằng cách sử dụng hàm kernel. Điều này cho phép mô hình nắm bắt được các mẫu và mối quan hệ phức tạp mà có thể không hiển nhiên trong không gian đặc trưng ban đầu.\n",
        "\n",
        "Quá trình huấn luyện của SVR với mục đich tìm kiếm một hàm tuyến tính hoặc phi tuyến sao cho sai số dự đoán trên tập huấn luyện là nhỏ nhất. Để điều chỉnh độ phức tạp của mô hình, các tham số như hằng số điều chỉnh \"C\" và tham số \"epsilon\" được sử dụng để điều chỉnh độ mềm mại của ranh giới và sai số cho phép trong quá trình tối ưu hóa."
      ],
      "metadata": {
        "id": "fGW84ayMdNxv"
      }
    },
    {
      "cell_type": "code",
      "source": [
        "SVR_model = SVR(kernel='rbf')\n",
        "SVR_model.fit(X_train, y_train)\n",
        "y_pred = SVR_model.predict(X_test)\n",
        "mse_SVR = mean_squared_error(y_test, y_pred)\n",
        "rmse_SVR = np.sqrt(mse_SVR)\n",
        "R2_SVR = SVR_model.score(X_test,y_test)\n",
        "print(\"MSE:\", mse_SVR)\n",
        "print(\"RMSE score for Support Vector Regression: {:.4f}\".format(rmse_SVR))\n",
        "print(\"R2-Score: \", R2_SVR)"
      ],
      "metadata": {
        "id": "-sQfRJ93HWCv"
      },
      "execution_count": null,
      "outputs": []
    },
    {
      "cell_type": "code",
      "source": [
        "plt.figure(figsize=(10, 6))\n",
        "plt.scatter(range(len(y_test)), y_test, color='blue', label='Thực tế')\n",
        "plt.scatter(range(len(y_test)), y_pred, color='red', label='Dự đoán')\n",
        "plt.xlabel('Mẫu')\n",
        "plt.ylabel('Giá trị')\n",
        "plt.title('So sánh dữ liệu thực và dữ liệu dự đoán')\n",
        "plt.legend()\n",
        "plt.show()"
      ],
      "metadata": {
        "id": "ohVH4FH0QvcR"
      },
      "execution_count": null,
      "outputs": []
    },
    {
      "cell_type": "markdown",
      "source": [
        "## **Gradient Boosting**"
      ],
      "metadata": {
        "id": "AXndBBzyQhzn"
      }
    },
    {
      "cell_type": "markdown",
      "source": [
        "Gradient Boosting là một thuật toán học máy phổ biến và mạnh mẽ trong việc xử lý bộ dữ liệu bảng. Nó có khả năng tìm ra mối quan hệ phi tuyến giữa biến mục tiêu và các biến đầu vào một cách hiệu quả. Thuật toán này cũng linh hoạt trong việc xử lý các giá trị thiếu, giá trị ngoại lệ và biến có độ phân cấp cao mà không yêu cầu xử lý đặc biệt.\n",
        "\n",
        "Trong Gradient Boosting, chúng ta xây dựng một chuỗi các cây quyết định yếu, gọi là các cây cơ bản. Mỗi cây cơ bản được xây dựng dựa trên việc điều chỉnh lỗi dự đoán của cây trước đó. Quá trình này được thực hiện bằng cách tối ưu hóa hàm mất mát, điều chỉnh các trọng số của các cây cơ bản để giảm thiểu sai số dự đoán.\n",
        "\n",
        "Thuật toán Gradient Boosting sử dụng phương pháp tối ưu hóa gradient descent để điều chỉnh các trọng số của cây cơ bản. Phương pháp này tìm kiếm hướng giảm dốc tốt nhất của hàm mất mát trong không gian trọng số. Quá trình này được lặp đi lặp lại, mỗi vòng lặp tạo ra một cây cơ bản mới và cập nhật trọng số của chúng.\n",
        "\n",
        "Một trong những điểm mạnh của Gradient Boosting là khả năng xử lý dữ liệu bảng phức tạp mà không yêu cầu tiền xử lý đặc biệt. Nó có thể làm việc với các biến số và biến phân loại, đồng thời xử lý các giá trị thiếu và giá trị ngoại lệ. Ngoài ra, Gradient Boosting còn có khả năng chống lại sự quá khớp và xây dựng các mô hình dự đoán chính xác."
      ],
      "metadata": {
        "id": "C_GcUTJHWgaa"
      }
    },
    {
      "cell_type": "code",
      "source": [
        "GB_model = GradientBoostingRegressor(n_estimators=275, learning_rate=0.1, random_state=42)\n",
        "GB_model.fit(X_train, y_train)\n",
        "y_pred = GB_model.predict(X_test)\n",
        "mse_GBoosting = mean_squared_error(y_test, y_pred)\n",
        "rmse_GBoosting = np.sqrt(mse_GBoosting)\n",
        "R2_GB = GB_model.score(X_test,y_test)\n",
        "print(\"MSE:\", mse_GBoosting)\n",
        "print(\"RMSE score for GBoosting: {:.4f}\".format(rmse_GBoosting))\n",
        "print(\"R2-Score: \", R2_GB)"
      ],
      "metadata": {
        "id": "w_G5TO1IQoJV"
      },
      "execution_count": null,
      "outputs": []
    },
    {
      "cell_type": "code",
      "source": [
        "plt.figure(figsize=(10, 6))\n",
        "plt.scatter(range(len(y_test)), y_test, color='blue', label='Thực tế')\n",
        "plt.scatter(range(len(y_test)), y_pred, color='red', label='Dự đoán')\n",
        "plt.xlabel('Mẫu')\n",
        "plt.ylabel('Giá trị')\n",
        "plt.title('So sánh dữ liệu thực và dữ liệu dự đoán')\n",
        "plt.legend()\n",
        "plt.show()"
      ],
      "metadata": {
        "id": "Vt3dnZUiQxUN"
      },
      "execution_count": null,
      "outputs": []
    },
    {
      "cell_type": "markdown",
      "source": [
        "## **Neural Network**"
      ],
      "metadata": {
        "id": "QFuJV3uEQw-R"
      }
    },
    {
      "cell_type": "markdown",
      "source": [
        "Neural Network được thiết kế để mô phỏng cấu trúc và hoạt động của hệ thần kinh trong não người. Neural Network là một mô hình mạnh mẽ có khả năng xử lý dữ liệu phức tạp và giải quyết các bài toán dự đoán.\n",
        "\n",
        "Ý tưởng chính của Neural Network là xây dựng một mạng lưới các \"nút\" (\"neuron\") nhân tạo, được tổ chức thành các \"lớp\" (\"layer\"). Mỗi nút nhận đầu vào từ các nút trong lớp trước đó và tính toán kết quả đầu ra dựa trên các trọng số và hàm kích hoạt. Quá trình tính toán này được thực hiện thông qua các kết nối trọng số giữa các nút.\n",
        "\n",
        "Mạng Neural thường bao gồm một lớp đầu vào, một hoặc nhiều lớp ẩn và một lớp đầu ra. Các lớp ẩn giúp mô hình học được các đặc trưng phức tạp và tạo ra các biểu diễn của dữ liệu. Quá trình học của Neural Network thông qua việc điều chỉnh các trọng số, thường sử dụng phương pháp lan truyền ngược (backpropagation), để tối ưu hóa các thông số và đạt được dự đoán chính xác.\n",
        "\n",
        "Neural Network có khả năng xử lý nhiều loại dữ liệu, bao gồm cả dữ liệu số và dữ liệu văn bản. Nó được áp dụng rộng rãi trong các lĩnh vực như nhận dạng hình ảnh, nhận dạng giọng nói, dịch máy, nhận dạng văn bản và nhiều ứng dụng khác liên quan đến xử lý ngôn ngữ tự nhiên."
      ],
      "metadata": {
        "id": "S71UYwILWm5A"
      }
    },
    {
      "cell_type": "code",
      "source": [
        "NNR_model = MLPRegressor(hidden_layer_sizes=(200, 50), activation='tanh', solver='adam', random_state=42)\n",
        "NNR_model.fit(X_train, y_train)\n",
        "y_pred = NNR_model.predict(X_test)\n",
        "mse_NNR = mean_squared_error(y_test, y_pred)\n",
        "rmse_NNR = np.sqrt(mse_NNR)\n",
        "R2_NNR = NNR_model.score(X_test,y_test)\n",
        "print(\"MSE:\", mse_NNR)\n",
        "print(\"RMSE score for Neural Network Regressor: {:.4f}\".format(rmse_NNR))\n",
        "print(\"R2-Score: \", R2_NNR)"
      ],
      "metadata": {
        "id": "iSMlkVw9Q0gu"
      },
      "execution_count": null,
      "outputs": []
    },
    {
      "cell_type": "code",
      "source": [
        "plt.figure(figsize=(10, 6))\n",
        "plt.scatter(range(len(y_test)), y_test, color='blue', label='Thực tế')\n",
        "plt.scatter(range(len(y_test)), y_pred, color='red', label='Dự đoán')\n",
        "plt.xlabel('Mẫu')\n",
        "plt.ylabel('Giá trị')\n",
        "plt.title('So sánh dữ liệu thực và dữ liệu dự đoán')\n",
        "plt.legend()\n",
        "plt.show()"
      ],
      "metadata": {
        "id": "K15guE5WQ0t-"
      },
      "execution_count": null,
      "outputs": []
    },
    {
      "cell_type": "markdown",
      "source": [
        "## **XGBoost - Extreme gradient boosting**"
      ],
      "metadata": {
        "id": "MRGKnXSpQ83w"
      }
    },
    {
      "cell_type": "markdown",
      "source": [
        "XGBoost là một biến thể của Gradient Boosting với hiệu suất cao và khả năng xử lý dữ liệu lớn.\n",
        "\n",
        "Tương tự như Gradient Boosting, XGBoost xây dựng một chuỗi các cây quyết định nhằm giải quyết bài toán dự đoán. Mỗi cây trong chuỗi được xây dựng dựa trên việc sửa đổi lỗi dự đoán của cây trước đó. Tuy nhiên, XGBoost cung cấp nhiều cải tiến và tối ưu hóa để tăng cường hiệu suất và tốc độ huấn luyện.\n",
        "\n",
        "Một trong những ưu điểm nổi bật của XGBoost là khả năng xử lý dữ liệu lớn một cách hiệu quả. Nó sử dụng các kỹ thuật như \"column block\" và \"row block\" để tận dụng tối đa khả năng tính toán của hệ thống phân tán và đa luồng.\n",
        "\n",
        "XGBoost cũng cho phép tùy chỉnh và điều chỉnh mô hình theo nhiều cách. Bạn có thể tùy chỉnh hàm mất mát và phương pháp tối ưu hóa, điều chỉnh các tham số huấn luyện và kiểm soát quá khớp bằng cách sử dụng các biện pháp như ràng buộc L1 và L2."
      ],
      "metadata": {
        "id": "uSOIwcOpXzPt"
      }
    },
    {
      "cell_type": "code",
      "source": [
        "xgb_model =xgb.XGBRegressor(learning_rate=0.1, n_estimators=275,verbosity = 0,\n",
        "                                               max_depth=3, min_child_weight=0,\n",
        "                                               gamma=0, subsample=0.7,\n",
        "                                               colsample_bytree=0.7,\n",
        "                                               objective='reg:linear', nthread=4,\n",
        "                                               scale_pos_weight=1, seed=27,\n",
        "                                               reg_alpha=0.00006)\n",
        "xgb_model.fit(X_train, y_train)\n",
        "xgb_model.get_booster().feature_names = features\n",
        "y_pred = xgb_model.predict(X_test)\n",
        "mse_XGBoost =  mean_squared_error(y_test, y_pred)\n",
        "rmse_XGBoost = np.sqrt(mse_XGBoost)\n",
        "R2_XGBoost = xgb_model.score(X_test,y_test)\n",
        "print(\"Mean Squared Error = {:.8f}\".format(mse_XGBoost))\n",
        "print(\"RMSE score for XGBoost: {:.4f}\".format(rmse_XGBoost))\n",
        "print(\"R2-Score: \", R2_XGBoost)"
      ],
      "metadata": {
        "id": "_jgBWFHiRMJf"
      },
      "execution_count": null,
      "outputs": []
    },
    {
      "cell_type": "code",
      "source": [
        "plt.figure(figsize=(10, 6))\n",
        "plt.scatter(range(len(y_test)), y_test, color='blue', label='Thực tế')\n",
        "plt.scatter(range(len(y_test)), y_pred, color='red', label='Dự đoán')\n",
        "plt.xlabel('Mẫu')\n",
        "plt.ylabel('Giá trị')\n",
        "plt.title('So sánh dữ liệu thực và dữ liệu dự đoán')\n",
        "plt.legend()\n",
        "plt.show()"
      ],
      "metadata": {
        "id": "_rZbQ2W4RMd9"
      },
      "execution_count": null,
      "outputs": []
    },
    {
      "cell_type": "markdown",
      "source": [
        "## **Stacking regression**"
      ],
      "metadata": {
        "id": "dUJ6vPyGSwyL"
      }
    },
    {
      "cell_type": "markdown",
      "source": [
        "\n",
        "Stacking Regression kết hợp các mô hình hồi quy khác nhau để tạo ra dự đoán cuối cùng có độ chính xác cao hơn. Phương pháp này xây dựng một bộ sưu tập các mô hình hồi quy, được gọi là \"bộ xếp chồng\", và sử dụng dự đoán từ các mô hình này như các đặc trưng đầu vào cho một mô hình hồi quy cuối cùng, được gọi là \"mô hình meta-regression\".\n",
        "\n",
        "Quá trình huấn luyện của Stacking Regression bao gồm hai giai đoạn. Trong giai đoạn đầu tiên, các mô hình hồi quy trong bộ xếp chồng được huấn luyện trên tập dữ liệu huấn luyện ban đầu. Sau đó, trong giai đoạn thứ hai, dự đoán từ các mô hình cơ sở được sử dụng làm đặc trưng đầu vào cho mô hình meta-regression, và mô hình này được huấn luyện trên tập dữ liệu huấn luyện ban đầu.\n",
        "\n",
        "Stacking Regression có thể được mở rộng để xử lý nhiều cấp độ của bộ xếp chồng và mô hình meta-regression, tạo ra một cấu trúc phân cấp linh hoạt. Điều này cho phép việc kết hợp các mô hình dự đoán ở nhiều mức độ khác nhau và tăng cường khả năng dự đoán của phương pháp."
      ],
      "metadata": {
        "id": "zu-HuyDRYINz"
      }
    },
    {
      "cell_type": "code",
      "source": [
        "RF_model = RandomForestRegressor(n_estimators=100, random_state=42)\n",
        "RF_model.fit(X_train, y_train)\n",
        "gboost_model = GradientBoostingRegressor(n_estimators=275, learning_rate=0.1, random_state=42)\n",
        "gboost_model.fit(X_train, y_train)\n",
        "xgb_model =xgb.XGBRegressor(learning_rate=0.01, n_estimators=275,verbosity = 0,\n",
        "                                               max_depth=3, min_child_weight=0,\n",
        "                                               gamma=0, subsample=0.7,\n",
        "                                               colsample_bytree=0.7,\n",
        "                                               objective='reg:linear', nthread=4,\n",
        "                                               scale_pos_weight=1, seed=27,\n",
        "                                               reg_alpha=0.00006)\n",
        "xgb_model.fit(X_train, y_train)\n",
        "stack_regressor = StackingCVRegressor(regressors=(RF_model, gboost_model, xgb_model), meta_regressor=xgb_model, use_features_in_secondary=True)\n",
        "stack_model = stack_regressor.fit(X_train, y_train)\n",
        "stack_preds = stack_model.predict(X_test)\n",
        "mse_stackRegressor = mean_squared_error(y_test, stack_preds)\n",
        "rmse_stackRegressor = np.sqrt(mse_stackRegressor)\n",
        "print(\"MSE:\", mse_stackRegressor)\n",
        "print(\"RMSE score for XGBoost: {:.4f}\".format(rmse_stackRegressor))\n",
        "R2_stack = stack_model.score(X_train, y_train)\n",
        "print(\"R2-Score: \", R2_stack)"
      ],
      "metadata": {
        "id": "hqcVTCZGSwiT"
      },
      "execution_count": null,
      "outputs": []
    },
    {
      "cell_type": "code",
      "source": [
        "plt.figure(figsize=(10, 6))\n",
        "plt.scatter(range(len(y_test)), y_test, color='blue', label='Thực tế')\n",
        "plt.scatter(range(len(y_test)), y_pred, color='red', label='Dự đoán')\n",
        "plt.xlabel('Mẫu')\n",
        "plt.ylabel('Giá trị')\n",
        "plt.title('So sánh dữ liệu thực và dữ liệu dự đoán')\n",
        "plt.legend()\n",
        "plt.show()"
      ],
      "metadata": {
        "id": "F7LEws5rWHiv"
      },
      "execution_count": null,
      "outputs": []
    },
    {
      "cell_type": "markdown",
      "source": [
        "## **Tính RMSE với cross validation**"
      ],
      "metadata": {
        "id": "51o3jM6DSS1C"
      }
    },
    {
      "cell_type": "code",
      "source": [
        "def rmse_kfold(model, n_folds):\n",
        "    kf = KFold(n_folds, shuffle=True, random_state=42).get_n_splits(X_train)\n",
        "    rmse= np.sqrt(-cross_val_score(model, X_train, y_train, scoring=\"neg_mean_squared_error\", cv = kf))\n",
        "    return(np.mean(rmse))"
      ],
      "metadata": {
        "id": "aTRvd2cXSSB7"
      },
      "execution_count": null,
      "outputs": []
    },
    {
      "cell_type": "code",
      "source": [
        "# Giá trị MSE của các mô hình\n",
        "mse_values = [ mse_SVR, mse_randomForest, mse_NNR, mse_XGBoost, mse_GBoosting, mse_linearRegression, mse_lassoRegression,mse_stackRegressor]\n",
        "\n",
        "# Giá trị RMSE của các mô hình\n",
        "rmse_values = [ rmse_SVR, rmse_randomForest, rmse_NNR, rmse_XGBoost, rmse_GBoosting, rmse_linearRegression, rmse_lassoRegression,rmse_stackRegressor]\n",
        "\n",
        "r2_values = [R2_SVR, R2_random, R2_NNR, R2_XGBoost, R2_GB, R2_linear, R2_lasso,R2_stack]\n",
        "# Tên của các mô hình\n",
        "models_name = [ 'SVR', 'Random Forest', 'Neural Network Regression', 'XGBoost','Gradient Boosting', 'Linear', 'Lasso', 'Stack']\n",
        "models = [SVR_model, RF_model, NNR_model, xgb_model, GB_model, linear_model ,lasso_model , stack_model]\n",
        "rmse_values_kfold = []\n",
        "for model in models:\n",
        "    rmse_values_kfold.append(rmse_kfold(model,5))\n"
      ],
      "metadata": {
        "id": "_rb6iXUxAkOu"
      },
      "execution_count": null,
      "outputs": []
    },
    {
      "cell_type": "code",
      "source": [
        "# Vẽ biểu đồ\n",
        "plt.figure(figsize=(10, 6))\n",
        "plt.bar(models_name, mse_values, color = 'cyan')\n",
        "plt.title('Mean Squared Error (MSE) of Models')\n",
        "plt.xlabel('Models')\n",
        "plt.ylabel('MSE')\n",
        "plt.xticks(rotation=45)\n",
        "plt.xticks(fontname='Arial', fontsize=12)\n",
        "plt.show()\n",
        "\n",
        "# Vẽ đồ thị RMSE\n",
        "plt.figure(figsize=(10, 6))\n",
        "plt.bar(models_name, rmse_values, color = 'mediumseagreen')\n",
        "plt.title('Root Mean Squared Error (RMSE) of Models')\n",
        "plt.xlabel('Models')\n",
        "plt.ylabel('RMSE')\n",
        "plt.xticks(rotation=45)\n",
        "plt.xticks(fontname='Arial', fontsize=12)\n",
        "plt.show()\n",
        "\n",
        "# Vẽ đồ thị RMSE với cross validation kfold = 5\n",
        "plt.figure(figsize=(10, 6))\n",
        "plt.bar(models_name, rmse_values_kfold, color = 'mediumseagreen')\n",
        "plt.title('Root Mean Squared Error (RMSE) of Models with cross validation')\n",
        "plt.xlabel('Models')\n",
        "plt.ylabel('RMSE')\n",
        "plt.xticks(rotation=45)\n",
        "plt.xticks(fontname='Arial', fontsize=12)\n",
        "plt.show()\n",
        "\n",
        "# Vẽ đồ thị R2\n",
        "plt.figure(figsize=(10, 6))\n",
        "plt.bar(models_name, r2_values, color = 'mediumseagreen')\n",
        "plt.title('R2')\n",
        "plt.xlabel('Models')\n",
        "plt.ylabel('R2')\n",
        "plt.xticks(rotation=45)\n",
        "plt.xticks(fontname='Arial', fontsize=12)\n",
        "plt.show()"
      ],
      "metadata": {
        "id": "h-P8An1iXc40"
      },
      "execution_count": null,
      "outputs": []
    },
    {
      "cell_type": "markdown",
      "source": [
        "Độ quan trọng của các feature trong 2 model Gradient boosting và Extreme gradient boosting"
      ],
      "metadata": {
        "id": "A-6JExjGbwce"
      }
    },
    {
      "cell_type": "code",
      "source": [
        "xgb.plot_importance(xgb_model)"
      ],
      "metadata": {
        "id": "knFXp30zbvuf"
      },
      "execution_count": null,
      "outputs": []
    },
    {
      "cell_type": "code",
      "source": [
        "feature_importance = GB_model.feature_importances_\n",
        "sorted_idx = np.argsort(feature_importance)\n",
        "pos = np.arange(sorted_idx.shape[0]) + .5\n",
        "fig = plt.figure(figsize=(8, 8))\n",
        "plt.barh(pos, feature_importance[sorted_idx], align='center')\n",
        "plt.yticks(pos, np.array(features)[sorted_idx])\n",
        "plt.title('Feature Importance (MDI)')\n",
        "plt.show()"
      ],
      "metadata": {
        "id": "PBnmQDdAdg6_"
      },
      "execution_count": null,
      "outputs": []
    },
    {
      "cell_type": "markdown",
      "source": [
        "Mse trên từng từng iteration của Gradient boosting"
      ],
      "metadata": {
        "id": "Qcme0DOneWaj"
      }
    },
    {
      "cell_type": "code",
      "source": [
        "test_score = np.zeros((GB_model.get_params()['n_estimators'],), dtype=np.float64)\n",
        "for i, y_pred in enumerate(GB_model.staged_predict(X_test)):\n",
        "    test_score[i] =mean_squared_error(y_test, y_pred)\n",
        "\n",
        "fig = plt.figure(figsize=(8, 8))\n",
        "plt.title('Deviance')\n",
        "plt.plot(np.arange(GB_model.get_params()['n_estimators']) + 1, GB_model.train_score_, 'b-',\n",
        "         label='Training Set Deviance')\n",
        "plt.plot(np.arange(GB_model.get_params()['n_estimators']) + 1, test_score, 'r-',\n",
        "         label='Test Set Deviance')\n",
        "plt.legend(loc='upper right')\n",
        "plt.xlabel('Boosting Iterations')\n",
        "plt.ylabel('Deviance')\n",
        "fig.tight_layout()\n",
        "plt.show()"
      ],
      "metadata": {
        "id": "Si9aio5keLzk"
      },
      "execution_count": null,
      "outputs": []
    },
    {
      "cell_type": "markdown",
      "source": [
        "# **Tổng kết**\n",
        "Tổng quan ta thấy Stacked Generalization là thuật toán nổi trội nhất do dụng các thuật toán mạnh mẽ khác làm base. Tuy nhiên thời gian của stack do đó cũng cao hơn hẳn so với các thuật toán khác.\n",
        "\n",
        "Tiếp theo, randomforest thật sự hiệu qua cho dự liệu phi tuyến tính  nhưng vấn đề vẫn là thời gian, cùng số lượng estimators.\n",
        "\n",
        "Tiếp đến, là 2 thuật toán sử dụng boosting là Gradient boosting regressor và Extrame gradient boosting. Mặc dù vận kết quả cho thấy Gradient boosting regressor. Nhưng so vo về tốt độ cũng nhưng thứ khác đi kèm với Extrame gradient boosting trong thư viện xgboost là tốt hơn.\n",
        "Mạng Neural cũng được sử dụng nhưng có do còn ít nút, lớp nên chưa phát huy sức mạnh model\n",
        "\n",
        "Hồi quy linear và lasso thì hoạt động kém trong dữ liệu phi tuyến.\n",
        "\n",
        "Hồi quy sử support vectot kém nhất khi dữ liệu khá lớn, lại chứa nhiều outlier.\n"
      ],
      "metadata": {
        "id": "BmdCZrUVEmO6"
      }
    }
  ]
}